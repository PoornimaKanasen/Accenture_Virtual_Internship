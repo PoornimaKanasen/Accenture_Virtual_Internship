{
 "cells": [
  {
   "cell_type": "markdown",
   "id": "78f9e191",
   "metadata": {},
   "source": [
    "**Clean the data by:**\n",
    "\n",
    "- removing rows that have values which are missing,\n",
    "- changing the data type of some values within a column, and\n",
    "- removing columns which are not relevant to this task.\n",
    "\n",
    "Think about how each column might be relevant to the business question you’re investigating. If you can’t think of why a column may be useful, it may not be worth including it.\n",
    " "
   ]
  },
  {
   "cell_type": "code",
   "execution_count": 1,
   "id": "066bc0fa",
   "metadata": {},
   "outputs": [],
   "source": [
    "# Import the basic libraries\n",
    "\n",
    "import pandas as pd\n",
    "import numpy as np\n",
    "import seaborn as sns\n",
    "import matplotlib.pyplot as plt\n",
    "%matplotlib inline"
   ]
  },
  {
   "cell_type": "markdown",
   "id": "cc46f5a4",
   "metadata": {},
   "source": [
    "#### Preprocessing - Content dataset"
   ]
  },
  {
   "cell_type": "code",
   "execution_count": 2,
   "id": "b7f0ea43",
   "metadata": {},
   "outputs": [
    {
     "data": {
      "text/html": [
       "<div><div id=c00b7e6a-409b-43b6-95a6-b13da2d36ead style=\"display:none; background-color:#9D6CFF; color:white; width:200px; height:30px; padding-left:5px; border-radius:4px; flex-direction:row; justify-content:space-around; align-items:center;\" onmouseover=\"this.style.backgroundColor='#BA9BF8'\" onmouseout=\"this.style.backgroundColor='#9D6CFF'\" onclick=\"window.commands?.execute('create-mitosheet-from-dataframe-output');\">See Full Dataframe in Mito</div> <script> if (window.commands?.hasCommand('create-mitosheet-from-dataframe-output')) document.getElementById('c00b7e6a-409b-43b6-95a6-b13da2d36ead').style.display = 'flex' </script> <table border=\"1\" class=\"dataframe\">\n",
       "  <thead>\n",
       "    <tr style=\"text-align: right;\">\n",
       "      <th></th>\n",
       "      <th>Content ID</th>\n",
       "      <th>User ID</th>\n",
       "      <th>Type</th>\n",
       "      <th>Category</th>\n",
       "    </tr>\n",
       "  </thead>\n",
       "  <tbody>\n",
       "    <tr>\n",
       "      <th>0</th>\n",
       "      <td>97522e57-d9ab-4bd6-97bf-c24d952602d2</td>\n",
       "      <td>8d3cd87d-8a31-4935-9a4f-b319bfe05f31</td>\n",
       "      <td>photo</td>\n",
       "      <td>Studying</td>\n",
       "    </tr>\n",
       "    <tr>\n",
       "      <th>1</th>\n",
       "      <td>9f737e0a-3cdd-4d29-9d24-753f4e3be810</td>\n",
       "      <td>beb1f34e-7870-46d6-9fc7-2e12eb83ce43</td>\n",
       "      <td>photo</td>\n",
       "      <td>healthy eating</td>\n",
       "    </tr>\n",
       "    <tr>\n",
       "      <th>2</th>\n",
       "      <td>230c4e4d-70c3-461d-b42c-ec09396efb3f</td>\n",
       "      <td>a5c65404-5894-4b87-82f2-d787cbee86b4</td>\n",
       "      <td>photo</td>\n",
       "      <td>healthy eating</td>\n",
       "    </tr>\n",
       "    <tr>\n",
       "      <th>3</th>\n",
       "      <td>356fff80-da4d-4785-9f43-bc1261031dc6</td>\n",
       "      <td>9fb4ce88-fac1-406c-8544-1a899cee7aaf</td>\n",
       "      <td>photo</td>\n",
       "      <td>technology</td>\n",
       "    </tr>\n",
       "    <tr>\n",
       "      <th>4</th>\n",
       "      <td>01ab84dd-6364-4236-abbb-3f237db77180</td>\n",
       "      <td>e206e31b-5f85-4964-b6ea-d7ee5324def1</td>\n",
       "      <td>video</td>\n",
       "      <td>food</td>\n",
       "    </tr>\n",
       "  </tbody>\n",
       "</table></div>"
      ],
      "text/plain": [
       "                             Content ID                               User ID  \\\n",
       "0  97522e57-d9ab-4bd6-97bf-c24d952602d2  8d3cd87d-8a31-4935-9a4f-b319bfe05f31   \n",
       "1  9f737e0a-3cdd-4d29-9d24-753f4e3be810  beb1f34e-7870-46d6-9fc7-2e12eb83ce43   \n",
       "2  230c4e4d-70c3-461d-b42c-ec09396efb3f  a5c65404-5894-4b87-82f2-d787cbee86b4   \n",
       "3  356fff80-da4d-4785-9f43-bc1261031dc6  9fb4ce88-fac1-406c-8544-1a899cee7aaf   \n",
       "4  01ab84dd-6364-4236-abbb-3f237db77180  e206e31b-5f85-4964-b6ea-d7ee5324def1   \n",
       "\n",
       "    Type        Category  \n",
       "0  photo        Studying  \n",
       "1  photo  healthy eating  \n",
       "2  photo  healthy eating  \n",
       "3  photo      technology  \n",
       "4  video            food  "
      ]
     },
     "execution_count": 2,
     "metadata": {},
     "output_type": "execute_result"
    }
   ],
   "source": [
    "content_df = pd.read_csv('Content.csv')\n",
    "content_df.drop(['Unnamed: 0','URL'], axis=1, inplace=True)\n",
    "content_df.head()"
   ]
  },
  {
   "cell_type": "code",
   "execution_count": 3,
   "id": "6e3f5da4",
   "metadata": {},
   "outputs": [
    {
     "name": "stdout",
     "output_type": "stream",
     "text": [
      "<class 'pandas.core.frame.DataFrame'>\n",
      "RangeIndex: 1000 entries, 0 to 999\n",
      "Data columns (total 4 columns):\n",
      " #   Column      Non-Null Count  Dtype \n",
      "---  ------      --------------  ----- \n",
      " 0   Content ID  1000 non-null   object\n",
      " 1   User ID     1000 non-null   object\n",
      " 2   Type        1000 non-null   object\n",
      " 3   Category    1000 non-null   object\n",
      "dtypes: object(4)\n",
      "memory usage: 31.4+ KB\n"
     ]
    }
   ],
   "source": [
    "content_df.info()"
   ]
  },
  {
   "cell_type": "markdown",
   "id": "a9a7876f",
   "metadata": {},
   "source": [
    "**Observations**\n",
    "- There are missing values, we will drop them as per the instructions.\n",
    "- Datatype seems ok."
   ]
  },
  {
   "cell_type": "code",
   "execution_count": 4,
   "id": "0073859a",
   "metadata": {},
   "outputs": [
    {
     "data": {
      "text/plain": [
       "0"
      ]
     },
     "execution_count": 4,
     "metadata": {},
     "output_type": "execute_result"
    }
   ],
   "source": [
    "#Check for duplicates\n",
    "\n",
    "content_df.duplicated().sum()"
   ]
  },
  {
   "cell_type": "code",
   "execution_count": 5,
   "id": "7c9a714d",
   "metadata": {},
   "outputs": [
    {
     "data": {
      "text/html": [
       "<div><div id=75875566-fd3f-4829-8aa1-6d5a41bd7219 style=\"display:none; background-color:#9D6CFF; color:white; width:200px; height:30px; padding-left:5px; border-radius:4px; flex-direction:row; justify-content:space-around; align-items:center;\" onmouseover=\"this.style.backgroundColor='#BA9BF8'\" onmouseout=\"this.style.backgroundColor='#9D6CFF'\" onclick=\"window.commands?.execute('create-mitosheet-from-dataframe-output');\">See Full Dataframe in Mito</div> <script> if (window.commands?.hasCommand('create-mitosheet-from-dataframe-output')) document.getElementById('75875566-fd3f-4829-8aa1-6d5a41bd7219').style.display = 'flex' </script> <table border=\"1\" class=\"dataframe\">\n",
       "  <thead>\n",
       "    <tr style=\"text-align: right;\">\n",
       "      <th></th>\n",
       "      <th>Content ID</th>\n",
       "      <th>User ID</th>\n",
       "      <th>Type</th>\n",
       "      <th>Category</th>\n",
       "    </tr>\n",
       "  </thead>\n",
       "  <tbody>\n",
       "    <tr>\n",
       "      <th>count</th>\n",
       "      <td>1000</td>\n",
       "      <td>1000</td>\n",
       "      <td>1000</td>\n",
       "      <td>1000</td>\n",
       "    </tr>\n",
       "    <tr>\n",
       "      <th>unique</th>\n",
       "      <td>1000</td>\n",
       "      <td>446</td>\n",
       "      <td>4</td>\n",
       "      <td>41</td>\n",
       "    </tr>\n",
       "    <tr>\n",
       "      <th>top</th>\n",
       "      <td>97522e57-d9ab-4bd6-97bf-c24d952602d2</td>\n",
       "      <td>72d2587e-8fae-4626-a73d-352e6465ba0f</td>\n",
       "      <td>photo</td>\n",
       "      <td>technology</td>\n",
       "    </tr>\n",
       "    <tr>\n",
       "      <th>freq</th>\n",
       "      <td>1</td>\n",
       "      <td>8</td>\n",
       "      <td>261</td>\n",
       "      <td>71</td>\n",
       "    </tr>\n",
       "  </tbody>\n",
       "</table></div>"
      ],
      "text/plain": [
       "                                  Content ID  \\\n",
       "count                                   1000   \n",
       "unique                                  1000   \n",
       "top     97522e57-d9ab-4bd6-97bf-c24d952602d2   \n",
       "freq                                       1   \n",
       "\n",
       "                                     User ID   Type    Category  \n",
       "count                                   1000   1000        1000  \n",
       "unique                                   446      4          41  \n",
       "top     72d2587e-8fae-4626-a73d-352e6465ba0f  photo  technology  \n",
       "freq                                       8    261          71  "
      ]
     },
     "execution_count": 5,
     "metadata": {},
     "output_type": "execute_result"
    }
   ],
   "source": [
    "content_df.describe(include='object')"
   ]
  },
  {
   "cell_type": "code",
   "execution_count": 6,
   "id": "69a9afe1",
   "metadata": {},
   "outputs": [
    {
     "data": {
      "text/plain": [
       "Content ID    0\n",
       "User ID       0\n",
       "Type          0\n",
       "Category      0\n",
       "dtype: int64"
      ]
     },
     "execution_count": 6,
     "metadata": {},
     "output_type": "execute_result"
    }
   ],
   "source": [
    "# Check for missing values\n",
    "\n",
    "content_df.isna().sum()"
   ]
  },
  {
   "cell_type": "code",
   "execution_count": 7,
   "id": "be2ac79c",
   "metadata": {},
   "outputs": [],
   "source": [
    "def unique (df, column_name):\n",
    "    for col in column_name:\n",
    "        print('{} :\\n {}'.format(col,df[col].unique()))"
   ]
  },
  {
   "cell_type": "code",
   "execution_count": 8,
   "id": "4ffe490d",
   "metadata": {},
   "outputs": [
    {
     "name": "stdout",
     "output_type": "stream",
     "text": [
      "Type :\n",
      " ['photo' 'video' 'GIF' 'audio']\n",
      "Category :\n",
      " ['Studying' 'healthy eating' 'technology' 'food' 'cooking' 'dogs' 'soccer'\n",
      " 'public speaking' 'science' 'tennis' 'travel' 'fitness' 'education'\n",
      " 'studying' 'veganism' 'Animals' 'animals' 'culture' '\"culture\"' 'Fitness'\n",
      " '\"studying\"' 'Veganism' '\"animals\"' 'Travel' '\"soccer\"' 'Education'\n",
      " '\"dogs\"' 'Technology' 'Soccer' '\"tennis\"' 'Culture' '\"food\"' 'Food'\n",
      " '\"technology\"' 'Healthy Eating' '\"cooking\"' 'Science' '\"public speaking\"'\n",
      " '\"veganism\"' 'Public Speaking' '\"science\"']\n"
     ]
    }
   ],
   "source": [
    "unique(content_df,['Type','Category'])"
   ]
  },
  {
   "cell_type": "code",
   "execution_count": 9,
   "id": "c0afd53b",
   "metadata": {},
   "outputs": [
    {
     "data": {
      "text/html": [
       "<div><div id=45694cee-c115-4ab4-af48-3de5b6c8475f style=\"display:none; background-color:#9D6CFF; color:white; width:200px; height:30px; padding-left:5px; border-radius:4px; flex-direction:row; justify-content:space-around; align-items:center;\" onmouseover=\"this.style.backgroundColor='#BA9BF8'\" onmouseout=\"this.style.backgroundColor='#9D6CFF'\" onclick=\"window.commands?.execute('create-mitosheet-from-dataframe-output');\">See Full Dataframe in Mito</div> <script> if (window.commands?.hasCommand('create-mitosheet-from-dataframe-output')) document.getElementById('45694cee-c115-4ab4-af48-3de5b6c8475f').style.display = 'flex' </script> <table border=\"1\" class=\"dataframe\">\n",
       "  <thead>\n",
       "    <tr style=\"text-align: right;\">\n",
       "      <th></th>\n",
       "      <th>Content ID</th>\n",
       "      <th>User ID</th>\n",
       "      <th>Type</th>\n",
       "      <th>Category</th>\n",
       "    </tr>\n",
       "  </thead>\n",
       "  <tbody>\n",
       "    <tr>\n",
       "      <th>0</th>\n",
       "      <td>97522e57-d9ab-4bd6-97bf-c24d952602d2</td>\n",
       "      <td>8d3cd87d-8a31-4935-9a4f-b319bfe05f31</td>\n",
       "      <td>photo</td>\n",
       "      <td>Studying</td>\n",
       "    </tr>\n",
       "    <tr>\n",
       "      <th>1</th>\n",
       "      <td>9f737e0a-3cdd-4d29-9d24-753f4e3be810</td>\n",
       "      <td>beb1f34e-7870-46d6-9fc7-2e12eb83ce43</td>\n",
       "      <td>photo</td>\n",
       "      <td>healthy eating</td>\n",
       "    </tr>\n",
       "    <tr>\n",
       "      <th>2</th>\n",
       "      <td>230c4e4d-70c3-461d-b42c-ec09396efb3f</td>\n",
       "      <td>a5c65404-5894-4b87-82f2-d787cbee86b4</td>\n",
       "      <td>photo</td>\n",
       "      <td>healthy eating</td>\n",
       "    </tr>\n",
       "    <tr>\n",
       "      <th>3</th>\n",
       "      <td>356fff80-da4d-4785-9f43-bc1261031dc6</td>\n",
       "      <td>9fb4ce88-fac1-406c-8544-1a899cee7aaf</td>\n",
       "      <td>photo</td>\n",
       "      <td>technology</td>\n",
       "    </tr>\n",
       "    <tr>\n",
       "      <th>4</th>\n",
       "      <td>01ab84dd-6364-4236-abbb-3f237db77180</td>\n",
       "      <td>e206e31b-5f85-4964-b6ea-d7ee5324def1</td>\n",
       "      <td>video</td>\n",
       "      <td>food</td>\n",
       "    </tr>\n",
       "    <tr>\n",
       "      <th>...</th>\n",
       "      <td>...</td>\n",
       "      <td>...</td>\n",
       "      <td>...</td>\n",
       "      <td>...</td>\n",
       "    </tr>\n",
       "    <tr>\n",
       "      <th>995</th>\n",
       "      <td>b4cef9ef-627b-41d7-a051-5961b0204ebb</td>\n",
       "      <td>5b62e10e-3c19-4d28-a57c-e9bdc3d6758d</td>\n",
       "      <td>video</td>\n",
       "      <td>public speaking</td>\n",
       "    </tr>\n",
       "    <tr>\n",
       "      <th>996</th>\n",
       "      <td>7a79f4e4-3b7d-44dc-bdef-bc990740252c</td>\n",
       "      <td>4fe420fa-a193-4408-bd5d-62a020233609</td>\n",
       "      <td>GIF</td>\n",
       "      <td>technology</td>\n",
       "    </tr>\n",
       "    <tr>\n",
       "      <th>997</th>\n",
       "      <td>435007a5-6261-4d8b-b0a4-55fdc189754b</td>\n",
       "      <td>35d6a1f3-e358-4d4b-8074-05f3b7f35c2a</td>\n",
       "      <td>audio</td>\n",
       "      <td>veganism</td>\n",
       "    </tr>\n",
       "    <tr>\n",
       "      <th>998</th>\n",
       "      <td>4e4c9690-c013-4ee7-9e66-943d8cbd27b7</td>\n",
       "      <td>b9bcd994-f000-4f6b-87fc-caae08acfaa1</td>\n",
       "      <td>GIF</td>\n",
       "      <td>culture</td>\n",
       "    </tr>\n",
       "    <tr>\n",
       "      <th>999</th>\n",
       "      <td>75d6b589-7fae-4a6d-b0d0-752845150e56</td>\n",
       "      <td>b8c653b5-0118-4d7e-9bde-07c2de90f0ff</td>\n",
       "      <td>audio</td>\n",
       "      <td>technology</td>\n",
       "    </tr>\n",
       "  </tbody>\n",
       "</table></div>"
      ],
      "text/plain": [
       "                               Content ID  \\\n",
       "0    97522e57-d9ab-4bd6-97bf-c24d952602d2   \n",
       "1    9f737e0a-3cdd-4d29-9d24-753f4e3be810   \n",
       "2    230c4e4d-70c3-461d-b42c-ec09396efb3f   \n",
       "3    356fff80-da4d-4785-9f43-bc1261031dc6   \n",
       "4    01ab84dd-6364-4236-abbb-3f237db77180   \n",
       "..                                    ...   \n",
       "995  b4cef9ef-627b-41d7-a051-5961b0204ebb   \n",
       "996  7a79f4e4-3b7d-44dc-bdef-bc990740252c   \n",
       "997  435007a5-6261-4d8b-b0a4-55fdc189754b   \n",
       "998  4e4c9690-c013-4ee7-9e66-943d8cbd27b7   \n",
       "999  75d6b589-7fae-4a6d-b0d0-752845150e56   \n",
       "\n",
       "                                  User ID   Type         Category  \n",
       "0    8d3cd87d-8a31-4935-9a4f-b319bfe05f31  photo         Studying  \n",
       "1    beb1f34e-7870-46d6-9fc7-2e12eb83ce43  photo   healthy eating  \n",
       "2    a5c65404-5894-4b87-82f2-d787cbee86b4  photo   healthy eating  \n",
       "3    9fb4ce88-fac1-406c-8544-1a899cee7aaf  photo       technology  \n",
       "4    e206e31b-5f85-4964-b6ea-d7ee5324def1  video             food  \n",
       "..                                    ...    ...              ...  \n",
       "995  5b62e10e-3c19-4d28-a57c-e9bdc3d6758d  video  public speaking  \n",
       "996  4fe420fa-a193-4408-bd5d-62a020233609    GIF       technology  \n",
       "997  35d6a1f3-e358-4d4b-8074-05f3b7f35c2a  audio         veganism  \n",
       "998  b9bcd994-f000-4f6b-87fc-caae08acfaa1    GIF          culture  \n",
       "999  b8c653b5-0118-4d7e-9bde-07c2de90f0ff  audio       technology  \n",
       "\n",
       "[1000 rows x 4 columns]"
      ]
     },
     "execution_count": 9,
     "metadata": {},
     "output_type": "execute_result"
    }
   ],
   "source": [
    "content_df.applymap(lambda x: x.replace('\"', ''))"
   ]
  },
  {
   "cell_type": "code",
   "execution_count": 10,
   "id": "264f5618",
   "metadata": {},
   "outputs": [
    {
     "name": "stdout",
     "output_type": "stream",
     "text": [
      "Type :\n",
      " ['photo' 'video' 'GIF' 'audio']\n",
      "Category :\n",
      " ['Studying' 'healthy eating' 'technology' 'food' 'cooking' 'dogs' 'soccer'\n",
      " 'public speaking' 'science' 'tennis' 'travel' 'fitness' 'education'\n",
      " 'studying' 'veganism' 'Animals' 'animals' 'culture' '\"culture\"' 'Fitness'\n",
      " '\"studying\"' 'Veganism' '\"animals\"' 'Travel' '\"soccer\"' 'Education'\n",
      " '\"dogs\"' 'Technology' 'Soccer' '\"tennis\"' 'Culture' '\"food\"' 'Food'\n",
      " '\"technology\"' 'Healthy Eating' '\"cooking\"' 'Science' '\"public speaking\"'\n",
      " '\"veganism\"' 'Public Speaking' '\"science\"']\n"
     ]
    }
   ],
   "source": [
    "unique(content_df,['Type','Category'])"
   ]
  },
  {
   "cell_type": "markdown",
   "id": "b8ac341c",
   "metadata": {},
   "source": [
    "#### What to fix:\n",
    "- remove double qoutes\n",
    "- change upper case to lower case to remain consistent"
   ]
  },
  {
   "cell_type": "code",
   "execution_count": 11,
   "id": "794e0569",
   "metadata": {},
   "outputs": [],
   "source": [
    "# change upper case to lower case to remain consistent\n",
    "\n",
    "content_df['Category'] = content_df['Category'].apply(str.lower)"
   ]
  },
  {
   "cell_type": "code",
   "execution_count": 12,
   "id": "85ba6b9b",
   "metadata": {},
   "outputs": [],
   "source": [
    "# remove double qoutes\n",
    "\n",
    "content_df = content_df.apply(lambda s:s.str.replace('\"', \"\"))"
   ]
  },
  {
   "cell_type": "code",
   "execution_count": 13,
   "id": "6e776668",
   "metadata": {},
   "outputs": [],
   "source": [
    "# Replace values\n",
    "\n",
    "content_df['Category']=content_df['Category'].replace({'\"culture\"':'culture','\"studying\"':'studying',\n",
    "                                                       '\"animals\"':'animals','\"soccer\"':'soccer','\"dogs\"':'dogs',\n",
    "                                                      '\"tennis\"':'tennis','\"food\"':'food','\"technology\"':'technology',\n",
    "                                                      '\"cooking\"':'cooking','\"public speaking\"':'public speaking',\n",
    "                                                      '\"veganism\"':'veganism','\"science\"':'science'})"
   ]
  },
  {
   "cell_type": "code",
   "execution_count": 14,
   "id": "8ef1222d",
   "metadata": {},
   "outputs": [
    {
     "name": "stdout",
     "output_type": "stream",
     "text": [
      "Category :\n",
      " ['studying' 'healthy eating' 'technology' 'food' 'cooking' 'dogs' 'soccer'\n",
      " 'public speaking' 'science' 'tennis' 'travel' 'fitness' 'education'\n",
      " 'veganism' 'animals' 'culture']\n"
     ]
    }
   ],
   "source": [
    "unique(content_df,['Category'])"
   ]
  },
  {
   "cell_type": "code",
   "execution_count": 15,
   "id": "134fced0",
   "metadata": {},
   "outputs": [],
   "source": [
    "### Save the cleaned dataset\n",
    "content_df.to_csv('content_df_cleaned.csv')"
   ]
  },
  {
   "cell_type": "markdown",
   "id": "0489e8d4",
   "metadata": {},
   "source": [
    "#### Preprocessing - Reactions dataset"
   ]
  },
  {
   "cell_type": "code",
   "execution_count": 16,
   "id": "7590f8bd",
   "metadata": {},
   "outputs": [
    {
     "data": {
      "text/html": [
       "<div><div id=2593a79d-5890-41b8-8b69-00210cfbc657 style=\"display:none; background-color:#9D6CFF; color:white; width:200px; height:30px; padding-left:5px; border-radius:4px; flex-direction:row; justify-content:space-around; align-items:center;\" onmouseover=\"this.style.backgroundColor='#BA9BF8'\" onmouseout=\"this.style.backgroundColor='#9D6CFF'\" onclick=\"window.commands?.execute('create-mitosheet-from-dataframe-output');\">See Full Dataframe in Mito</div> <script> if (window.commands?.hasCommand('create-mitosheet-from-dataframe-output')) document.getElementById('2593a79d-5890-41b8-8b69-00210cfbc657').style.display = 'flex' </script> <table border=\"1\" class=\"dataframe\">\n",
       "  <thead>\n",
       "    <tr style=\"text-align: right;\">\n",
       "      <th></th>\n",
       "      <th>Content ID</th>\n",
       "      <th>User ID</th>\n",
       "      <th>Type</th>\n",
       "      <th>Datetime</th>\n",
       "    </tr>\n",
       "  </thead>\n",
       "  <tbody>\n",
       "    <tr>\n",
       "      <th>0</th>\n",
       "      <td>97522e57-d9ab-4bd6-97bf-c24d952602d2</td>\n",
       "      <td>NaN</td>\n",
       "      <td>NaN</td>\n",
       "      <td>2021-04-22 15:17:15</td>\n",
       "    </tr>\n",
       "    <tr>\n",
       "      <th>1</th>\n",
       "      <td>97522e57-d9ab-4bd6-97bf-c24d952602d2</td>\n",
       "      <td>5d454588-283d-459d-915d-c48a2cb4c27f</td>\n",
       "      <td>disgust</td>\n",
       "      <td>2020-11-07 09:43:50</td>\n",
       "    </tr>\n",
       "    <tr>\n",
       "      <th>2</th>\n",
       "      <td>97522e57-d9ab-4bd6-97bf-c24d952602d2</td>\n",
       "      <td>92b87fa5-f271-43e0-af66-84fac21052e6</td>\n",
       "      <td>dislike</td>\n",
       "      <td>2021-06-17 12:22:51</td>\n",
       "    </tr>\n",
       "    <tr>\n",
       "      <th>3</th>\n",
       "      <td>97522e57-d9ab-4bd6-97bf-c24d952602d2</td>\n",
       "      <td>163daa38-8b77-48c9-9af6-37a6c1447ac2</td>\n",
       "      <td>scared</td>\n",
       "      <td>2021-04-18 05:13:58</td>\n",
       "    </tr>\n",
       "    <tr>\n",
       "      <th>4</th>\n",
       "      <td>97522e57-d9ab-4bd6-97bf-c24d952602d2</td>\n",
       "      <td>34e8add9-0206-47fd-a501-037b994650a2</td>\n",
       "      <td>disgust</td>\n",
       "      <td>2021-01-06 19:13:01</td>\n",
       "    </tr>\n",
       "  </tbody>\n",
       "</table></div>"
      ],
      "text/plain": [
       "                             Content ID                               User ID  \\\n",
       "0  97522e57-d9ab-4bd6-97bf-c24d952602d2                                   NaN   \n",
       "1  97522e57-d9ab-4bd6-97bf-c24d952602d2  5d454588-283d-459d-915d-c48a2cb4c27f   \n",
       "2  97522e57-d9ab-4bd6-97bf-c24d952602d2  92b87fa5-f271-43e0-af66-84fac21052e6   \n",
       "3  97522e57-d9ab-4bd6-97bf-c24d952602d2  163daa38-8b77-48c9-9af6-37a6c1447ac2   \n",
       "4  97522e57-d9ab-4bd6-97bf-c24d952602d2  34e8add9-0206-47fd-a501-037b994650a2   \n",
       "\n",
       "      Type             Datetime  \n",
       "0      NaN  2021-04-22 15:17:15  \n",
       "1  disgust  2020-11-07 09:43:50  \n",
       "2  dislike  2021-06-17 12:22:51  \n",
       "3   scared  2021-04-18 05:13:58  \n",
       "4  disgust  2021-01-06 19:13:01  "
      ]
     },
     "execution_count": 16,
     "metadata": {},
     "output_type": "execute_result"
    }
   ],
   "source": [
    "reactions_df = pd.read_csv('Reactions.csv')\n",
    "reactions_df.drop('Unnamed: 0', axis=1, inplace=True)\n",
    "reactions_df.head()"
   ]
  },
  {
   "cell_type": "code",
   "execution_count": 17,
   "id": "853eb3e8",
   "metadata": {},
   "outputs": [
    {
     "name": "stdout",
     "output_type": "stream",
     "text": [
      "<class 'pandas.core.frame.DataFrame'>\n",
      "RangeIndex: 25553 entries, 0 to 25552\n",
      "Data columns (total 4 columns):\n",
      " #   Column      Non-Null Count  Dtype \n",
      "---  ------      --------------  ----- \n",
      " 0   Content ID  25553 non-null  object\n",
      " 1   User ID     22534 non-null  object\n",
      " 2   Type        24573 non-null  object\n",
      " 3   Datetime    25553 non-null  object\n",
      "dtypes: object(4)\n",
      "memory usage: 798.7+ KB\n"
     ]
    }
   ],
   "source": [
    "reactions_df.info()"
   ]
  },
  {
   "cell_type": "markdown",
   "id": "3f4c7b01",
   "metadata": {},
   "source": [
    "**Observations**\n",
    "- Missing values will be dropped.\n",
    "- Change data type for datetime column"
   ]
  },
  {
   "cell_type": "code",
   "execution_count": 18,
   "id": "c9639164",
   "metadata": {},
   "outputs": [
    {
     "data": {
      "text/plain": [
       "0"
      ]
     },
     "execution_count": 18,
     "metadata": {},
     "output_type": "execute_result"
    }
   ],
   "source": [
    "#Check for duplicates\n",
    "\n",
    "reactions_df.duplicated().sum()"
   ]
  },
  {
   "cell_type": "code",
   "execution_count": 19,
   "id": "9f0053dd",
   "metadata": {},
   "outputs": [
    {
     "data": {
      "text/html": [
       "<div><div id=e332b0d5-ff8f-4cf0-b1de-cf9c46bedca0 style=\"display:none; background-color:#9D6CFF; color:white; width:200px; height:30px; padding-left:5px; border-radius:4px; flex-direction:row; justify-content:space-around; align-items:center;\" onmouseover=\"this.style.backgroundColor='#BA9BF8'\" onmouseout=\"this.style.backgroundColor='#9D6CFF'\" onclick=\"window.commands?.execute('create-mitosheet-from-dataframe-output');\">See Full Dataframe in Mito</div> <script> if (window.commands?.hasCommand('create-mitosheet-from-dataframe-output')) document.getElementById('e332b0d5-ff8f-4cf0-b1de-cf9c46bedca0').style.display = 'flex' </script> <table border=\"1\" class=\"dataframe\">\n",
       "  <thead>\n",
       "    <tr style=\"text-align: right;\">\n",
       "      <th></th>\n",
       "      <th>Content ID</th>\n",
       "      <th>User ID</th>\n",
       "      <th>Type</th>\n",
       "      <th>Datetime</th>\n",
       "    </tr>\n",
       "  </thead>\n",
       "  <tbody>\n",
       "    <tr>\n",
       "      <th>count</th>\n",
       "      <td>25553</td>\n",
       "      <td>22534</td>\n",
       "      <td>24573</td>\n",
       "      <td>25553</td>\n",
       "    </tr>\n",
       "    <tr>\n",
       "      <th>unique</th>\n",
       "      <td>980</td>\n",
       "      <td>500</td>\n",
       "      <td>16</td>\n",
       "      <td>25542</td>\n",
       "    </tr>\n",
       "    <tr>\n",
       "      <th>top</th>\n",
       "      <td>4b2d0fff-3b4f-43ca-a7df-c430479cb9ba</td>\n",
       "      <td>c76c3393-88e2-47b0-ac37-dc4f2053f5a5</td>\n",
       "      <td>heart</td>\n",
       "      <td>2020-10-29 20:51:08</td>\n",
       "    </tr>\n",
       "    <tr>\n",
       "      <th>freq</th>\n",
       "      <td>49</td>\n",
       "      <td>65</td>\n",
       "      <td>1622</td>\n",
       "      <td>2</td>\n",
       "    </tr>\n",
       "  </tbody>\n",
       "</table></div>"
      ],
      "text/plain": [
       "                                  Content ID  \\\n",
       "count                                  25553   \n",
       "unique                                   980   \n",
       "top     4b2d0fff-3b4f-43ca-a7df-c430479cb9ba   \n",
       "freq                                      49   \n",
       "\n",
       "                                     User ID   Type             Datetime  \n",
       "count                                  22534  24573                25553  \n",
       "unique                                   500     16                25542  \n",
       "top     c76c3393-88e2-47b0-ac37-dc4f2053f5a5  heart  2020-10-29 20:51:08  \n",
       "freq                                      65   1622                    2  "
      ]
     },
     "execution_count": 19,
     "metadata": {},
     "output_type": "execute_result"
    }
   ],
   "source": [
    "reactions_df.describe(include='object')"
   ]
  },
  {
   "cell_type": "code",
   "execution_count": 20,
   "id": "59d80e8c",
   "metadata": {},
   "outputs": [
    {
     "data": {
      "text/plain": [
       "Content ID       0\n",
       "User ID       3019\n",
       "Type           980\n",
       "Datetime         0\n",
       "dtype: int64"
      ]
     },
     "execution_count": 20,
     "metadata": {},
     "output_type": "execute_result"
    }
   ],
   "source": [
    "reactions_df.isna().sum()"
   ]
  },
  {
   "cell_type": "code",
   "execution_count": 21,
   "id": "d4181c91",
   "metadata": {},
   "outputs": [],
   "source": [
    "# drop missing values.\n",
    "reactions_df.dropna(axis=0,inplace=True)"
   ]
  },
  {
   "cell_type": "code",
   "execution_count": 22,
   "id": "2dbddab9",
   "metadata": {},
   "outputs": [
    {
     "name": "stdout",
     "output_type": "stream",
     "text": [
      "<class 'pandas.core.frame.DataFrame'>\n",
      "Int64Index: 22534 entries, 1 to 25552\n",
      "Data columns (total 4 columns):\n",
      " #   Column      Non-Null Count  Dtype \n",
      "---  ------      --------------  ----- \n",
      " 0   Content ID  22534 non-null  object\n",
      " 1   User ID     22534 non-null  object\n",
      " 2   Type        22534 non-null  object\n",
      " 3   Datetime    22534 non-null  object\n",
      "dtypes: object(4)\n",
      "memory usage: 880.2+ KB\n"
     ]
    }
   ],
   "source": [
    "reactions_df.info()"
   ]
  },
  {
   "cell_type": "code",
   "execution_count": 23,
   "id": "71b6c147",
   "metadata": {},
   "outputs": [
    {
     "name": "stdout",
     "output_type": "stream",
     "text": [
      "Type :\n",
      " ['disgust' 'dislike' 'scared' 'interested' 'peeking' 'cherish' 'hate'\n",
      " 'indifferent' 'super love' 'worried' 'like' 'heart' 'want' 'intrigued'\n",
      " 'love' 'adore']\n"
     ]
    }
   ],
   "source": [
    "unique(reactions_df,['Type'])"
   ]
  },
  {
   "cell_type": "code",
   "execution_count": 34,
   "id": "84c41ca1",
   "metadata": {},
   "outputs": [],
   "source": [
    "#Change data type for datetime column\n",
    "\n",
    "import datetime as dt\n",
    "reactions_df['Datetime']= pd.to_datetime(reactions_df['Datetime'])"
   ]
  },
  {
   "cell_type": "markdown",
   "id": "e02045a1",
   "metadata": {},
   "source": [
    "#### Preprocessing - ReactionsTypes dataset"
   ]
  },
  {
   "cell_type": "code",
   "execution_count": 25,
   "id": "c750bf53",
   "metadata": {},
   "outputs": [
    {
     "data": {
      "text/html": [
       "<div><div id=330b2d9b-44c2-4194-a50e-e49a8a071aff style=\"display:none; background-color:#9D6CFF; color:white; width:200px; height:30px; padding-left:5px; border-radius:4px; flex-direction:row; justify-content:space-around; align-items:center;\" onmouseover=\"this.style.backgroundColor='#BA9BF8'\" onmouseout=\"this.style.backgroundColor='#9D6CFF'\" onclick=\"window.commands?.execute('create-mitosheet-from-dataframe-output');\">See Full Dataframe in Mito</div> <script> if (window.commands?.hasCommand('create-mitosheet-from-dataframe-output')) document.getElementById('330b2d9b-44c2-4194-a50e-e49a8a071aff').style.display = 'flex' </script> <table border=\"1\" class=\"dataframe\">\n",
       "  <thead>\n",
       "    <tr style=\"text-align: right;\">\n",
       "      <th></th>\n",
       "      <th>Type</th>\n",
       "      <th>Sentiment</th>\n",
       "      <th>Score</th>\n",
       "    </tr>\n",
       "  </thead>\n",
       "  <tbody>\n",
       "    <tr>\n",
       "      <th>0</th>\n",
       "      <td>heart</td>\n",
       "      <td>positive</td>\n",
       "      <td>60</td>\n",
       "    </tr>\n",
       "    <tr>\n",
       "      <th>1</th>\n",
       "      <td>want</td>\n",
       "      <td>positive</td>\n",
       "      <td>70</td>\n",
       "    </tr>\n",
       "    <tr>\n",
       "      <th>2</th>\n",
       "      <td>disgust</td>\n",
       "      <td>negative</td>\n",
       "      <td>0</td>\n",
       "    </tr>\n",
       "    <tr>\n",
       "      <th>3</th>\n",
       "      <td>hate</td>\n",
       "      <td>negative</td>\n",
       "      <td>5</td>\n",
       "    </tr>\n",
       "    <tr>\n",
       "      <th>4</th>\n",
       "      <td>interested</td>\n",
       "      <td>positive</td>\n",
       "      <td>30</td>\n",
       "    </tr>\n",
       "  </tbody>\n",
       "</table></div>"
      ],
      "text/plain": [
       "         Type Sentiment  Score\n",
       "0       heart  positive     60\n",
       "1        want  positive     70\n",
       "2     disgust  negative      0\n",
       "3        hate  negative      5\n",
       "4  interested  positive     30"
      ]
     },
     "execution_count": 25,
     "metadata": {},
     "output_type": "execute_result"
    }
   ],
   "source": [
    "reactionstype_df = pd.read_csv('ReactionTypes.csv')\n",
    "reactionstype_df.drop('Unnamed: 0', axis=1, inplace=True)\n",
    "reactionstype_df.head()"
   ]
  },
  {
   "cell_type": "code",
   "execution_count": 26,
   "id": "892b225d",
   "metadata": {},
   "outputs": [
    {
     "name": "stdout",
     "output_type": "stream",
     "text": [
      "<class 'pandas.core.frame.DataFrame'>\n",
      "RangeIndex: 16 entries, 0 to 15\n",
      "Data columns (total 3 columns):\n",
      " #   Column     Non-Null Count  Dtype \n",
      "---  ------     --------------  ----- \n",
      " 0   Type       16 non-null     object\n",
      " 1   Sentiment  16 non-null     object\n",
      " 2   Score      16 non-null     int64 \n",
      "dtypes: int64(1), object(2)\n",
      "memory usage: 512.0+ bytes\n"
     ]
    }
   ],
   "source": [
    "reactionstype_df.info()"
   ]
  },
  {
   "cell_type": "code",
   "execution_count": 27,
   "id": "3324f6ca",
   "metadata": {},
   "outputs": [
    {
     "data": {
      "text/html": [
       "<div><div id=513b3455-5135-457a-bd8e-c1c990265c09 style=\"display:none; background-color:#9D6CFF; color:white; width:200px; height:30px; padding-left:5px; border-radius:4px; flex-direction:row; justify-content:space-around; align-items:center;\" onmouseover=\"this.style.backgroundColor='#BA9BF8'\" onmouseout=\"this.style.backgroundColor='#9D6CFF'\" onclick=\"window.commands?.execute('create-mitosheet-from-dataframe-output');\">See Full Dataframe in Mito</div> <script> if (window.commands?.hasCommand('create-mitosheet-from-dataframe-output')) document.getElementById('513b3455-5135-457a-bd8e-c1c990265c09').style.display = 'flex' </script> <table border=\"1\" class=\"dataframe\">\n",
       "  <thead>\n",
       "    <tr style=\"text-align: right;\">\n",
       "      <th></th>\n",
       "      <th>Type</th>\n",
       "      <th>Sentiment</th>\n",
       "    </tr>\n",
       "  </thead>\n",
       "  <tbody>\n",
       "    <tr>\n",
       "      <th>count</th>\n",
       "      <td>16</td>\n",
       "      <td>16</td>\n",
       "    </tr>\n",
       "    <tr>\n",
       "      <th>unique</th>\n",
       "      <td>16</td>\n",
       "      <td>3</td>\n",
       "    </tr>\n",
       "    <tr>\n",
       "      <th>top</th>\n",
       "      <td>heart</td>\n",
       "      <td>positive</td>\n",
       "    </tr>\n",
       "    <tr>\n",
       "      <th>freq</th>\n",
       "      <td>1</td>\n",
       "      <td>9</td>\n",
       "    </tr>\n",
       "  </tbody>\n",
       "</table></div>"
      ],
      "text/plain": [
       "         Type Sentiment\n",
       "count      16        16\n",
       "unique     16         3\n",
       "top     heart  positive\n",
       "freq        1         9"
      ]
     },
     "execution_count": 27,
     "metadata": {},
     "output_type": "execute_result"
    }
   ],
   "source": [
    "reactionstype_df.describe(include = 'object')"
   ]
  },
  {
   "cell_type": "markdown",
   "id": "199bbe40",
   "metadata": {},
   "source": [
    "**We can map the score and sentiment columns with the functions below to the reactions_df, thus making it easier to join a table**"
   ]
  },
  {
   "cell_type": "code",
   "execution_count": 29,
   "id": "8a953053",
   "metadata": {},
   "outputs": [],
   "source": [
    "def score_stats (x):\n",
    "    if x =='adore':\n",
    "        return '72'\n",
    "    elif x == 'cherish':\n",
    "        return '70'\n",
    "    elif x =='disgust':\n",
    "        return '0'\n",
    "    elif x == 'dislike':\n",
    "        return '10'\n",
    "    elif x == 'hate':\n",
    "        return '5'\n",
    "    elif x == 'heart':\n",
    "        return '60' \n",
    "    elif x == 'indifferent':\n",
    "        return '20'\n",
    "    elif x == 'interested':\n",
    "        return '30'\n",
    "    elif x == 'intrigued':\n",
    "        return '45'\n",
    "    elif x == 'like':\n",
    "        return '50'\n",
    "    elif x == 'love':\n",
    "        return '65'\n",
    "    elif x == 'peeking':\n",
    "        return '35'\n",
    "    elif x == 'scared':\n",
    "        return '15'\n",
    "    elif x == 'super love':\n",
    "        return '75'\n",
    "    elif x == 'want':\n",
    "        return '70'\n",
    "    elif x == 'worried':\n",
    "        return '12'\n",
    "    "
   ]
  },
  {
   "cell_type": "code",
   "execution_count": 31,
   "id": "fcdf4193",
   "metadata": {},
   "outputs": [],
   "source": [
    "def sentiment_stats (x):\n",
    "    if x =='adore':\n",
    "        return 'positive'\n",
    "    elif x == 'cherish':\n",
    "        return 'positive'\n",
    "    elif x =='disgust':\n",
    "        return 'negative'\n",
    "    elif x == 'dislike':\n",
    "        return 'negative'\n",
    "    elif x == 'hate':\n",
    "        return 'negative'\n",
    "    elif x == 'heart':\n",
    "        return 'positive' \n",
    "    elif x == 'indifferent':\n",
    "        return 'neutral'\n",
    "    elif x == 'interested':\n",
    "        return 'positive'\n",
    "    elif x == 'intrigued':\n",
    "        return 'positive'\n",
    "    elif x == 'like':\n",
    "        return 'positive'\n",
    "    elif x == 'love':\n",
    "        return 'positive'\n",
    "    elif x == 'peeking':\n",
    "        return 'neutral'\n",
    "    elif x == 'scared':\n",
    "        return 'negative'\n",
    "    elif x == 'super love':\n",
    "        return 'positive'\n",
    "    elif x == 'want':\n",
    "        return 'positive'\n",
    "    elif x == 'worried':\n",
    "        return 'negative'"
   ]
  },
  {
   "cell_type": "code",
   "execution_count": 32,
   "id": "90b6b7f4",
   "metadata": {},
   "outputs": [
    {
     "data": {
      "text/html": [
       "<div><div id=80cc8da7-9741-4575-8698-6483df366b97 style=\"display:none; background-color:#9D6CFF; color:white; width:200px; height:30px; padding-left:5px; border-radius:4px; flex-direction:row; justify-content:space-around; align-items:center;\" onmouseover=\"this.style.backgroundColor='#BA9BF8'\" onmouseout=\"this.style.backgroundColor='#9D6CFF'\" onclick=\"window.commands?.execute('create-mitosheet-from-dataframe-output');\">See Full Dataframe in Mito</div> <script> if (window.commands?.hasCommand('create-mitosheet-from-dataframe-output')) document.getElementById('80cc8da7-9741-4575-8698-6483df366b97').style.display = 'flex' </script> <table border=\"1\" class=\"dataframe\">\n",
       "  <thead>\n",
       "    <tr style=\"text-align: right;\">\n",
       "      <th></th>\n",
       "      <th>Content ID</th>\n",
       "      <th>User ID</th>\n",
       "      <th>Type</th>\n",
       "      <th>Datetime</th>\n",
       "      <th>Score</th>\n",
       "      <th>Sentiment</th>\n",
       "    </tr>\n",
       "  </thead>\n",
       "  <tbody>\n",
       "    <tr>\n",
       "      <th>24346</th>\n",
       "      <td>21dfb75d-9d98-4627-b074-f4372025d23f</td>\n",
       "      <td>f73a01fe-444d-4b94-8d0e-4ec2cb97495b</td>\n",
       "      <td>super love</td>\n",
       "      <td>2021-03-26 06:54:05</td>\n",
       "      <td>75</td>\n",
       "      <td>positive</td>\n",
       "    </tr>\n",
       "    <tr>\n",
       "      <th>7349</th>\n",
       "      <td>5c38166c-8305-4227-ad54-bad36df2a57a</td>\n",
       "      <td>ade9db41-034e-4b27-befb-42117025dab0</td>\n",
       "      <td>love</td>\n",
       "      <td>2020-07-22 09:25:35</td>\n",
       "      <td>65</td>\n",
       "      <td>positive</td>\n",
       "    </tr>\n",
       "  </tbody>\n",
       "</table></div>"
      ],
      "text/plain": [
       "                                 Content ID  \\\n",
       "24346  21dfb75d-9d98-4627-b074-f4372025d23f   \n",
       "7349   5c38166c-8305-4227-ad54-bad36df2a57a   \n",
       "\n",
       "                                    User ID        Type             Datetime  \\\n",
       "24346  f73a01fe-444d-4b94-8d0e-4ec2cb97495b  super love  2021-03-26 06:54:05   \n",
       "7349   ade9db41-034e-4b27-befb-42117025dab0        love  2020-07-22 09:25:35   \n",
       "\n",
       "      Score Sentiment  \n",
       "24346    75  positive  \n",
       "7349     65  positive  "
      ]
     },
     "execution_count": 32,
     "metadata": {},
     "output_type": "execute_result"
    }
   ],
   "source": [
    "reactions_df['Score'] = reactions_df['Type'].map(score_stats)\n",
    "reactions_df['Sentiment'] = reactions_df['Type'].map(sentiment_stats)\n",
    "reactions_df.sample(2)"
   ]
  },
  {
   "cell_type": "code",
   "execution_count": 33,
   "id": "35df9ada",
   "metadata": {},
   "outputs": [],
   "source": [
    "### Save the cleaned dataset\n",
    "reactions_df.to_csv('reactions_df_cleaned.csv')"
   ]
  },
  {
   "cell_type": "markdown",
   "id": "a27f7c65",
   "metadata": {},
   "source": [
    "#### Lets merge the remaining tables into one."
   ]
  },
  {
   "cell_type": "code",
   "execution_count": 43,
   "id": "f150dffd",
   "metadata": {},
   "outputs": [
    {
     "data": {
      "text/html": [
       "<div><div id=cec7fe74-7e63-4607-8a1b-df590473e8b9 style=\"display:none; background-color:#9D6CFF; color:white; width:200px; height:30px; padding-left:5px; border-radius:4px; flex-direction:row; justify-content:space-around; align-items:center;\" onmouseover=\"this.style.backgroundColor='#BA9BF8'\" onmouseout=\"this.style.backgroundColor='#9D6CFF'\" onclick=\"window.commands?.execute('create-mitosheet-from-dataframe-output');\">See Full Dataframe in Mito</div> <script> if (window.commands?.hasCommand('create-mitosheet-from-dataframe-output')) document.getElementById('cec7fe74-7e63-4607-8a1b-df590473e8b9').style.display = 'flex' </script> <table border=\"1\" class=\"dataframe\">\n",
       "  <thead>\n",
       "    <tr style=\"text-align: right;\">\n",
       "      <th></th>\n",
       "      <th>Content ID</th>\n",
       "      <th>TypeContent</th>\n",
       "      <th>Category</th>\n",
       "    </tr>\n",
       "  </thead>\n",
       "  <tbody>\n",
       "    <tr>\n",
       "      <th>0</th>\n",
       "      <td>97522e57-d9ab-4bd6-97bf-c24d952602d2</td>\n",
       "      <td>photo</td>\n",
       "      <td>studying</td>\n",
       "    </tr>\n",
       "    <tr>\n",
       "      <th>1</th>\n",
       "      <td>9f737e0a-3cdd-4d29-9d24-753f4e3be810</td>\n",
       "      <td>photo</td>\n",
       "      <td>healthy eating</td>\n",
       "    </tr>\n",
       "    <tr>\n",
       "      <th>2</th>\n",
       "      <td>230c4e4d-70c3-461d-b42c-ec09396efb3f</td>\n",
       "      <td>photo</td>\n",
       "      <td>healthy eating</td>\n",
       "    </tr>\n",
       "    <tr>\n",
       "      <th>3</th>\n",
       "      <td>356fff80-da4d-4785-9f43-bc1261031dc6</td>\n",
       "      <td>photo</td>\n",
       "      <td>technology</td>\n",
       "    </tr>\n",
       "    <tr>\n",
       "      <th>4</th>\n",
       "      <td>01ab84dd-6364-4236-abbb-3f237db77180</td>\n",
       "      <td>video</td>\n",
       "      <td>food</td>\n",
       "    </tr>\n",
       "  </tbody>\n",
       "</table></div>"
      ],
      "text/plain": [
       "                             Content ID TypeContent        Category\n",
       "0  97522e57-d9ab-4bd6-97bf-c24d952602d2       photo        studying\n",
       "1  9f737e0a-3cdd-4d29-9d24-753f4e3be810       photo  healthy eating\n",
       "2  230c4e4d-70c3-461d-b42c-ec09396efb3f       photo  healthy eating\n",
       "3  356fff80-da4d-4785-9f43-bc1261031dc6       photo      technology\n",
       "4  01ab84dd-6364-4236-abbb-3f237db77180       video            food"
      ]
     },
     "execution_count": 43,
     "metadata": {},
     "output_type": "execute_result"
    }
   ],
   "source": [
    "content_new_df = pd.read_csv('content_df_cleaned.csv')\n",
    "content_new_df.drop(['Unnamed: 0','User ID'], axis=1, inplace=True)\n",
    "content_new_df.rename(columns = {'Type':'TypeContent'}, inplace = True)\n",
    "content_new_df.head()"
   ]
  },
  {
   "cell_type": "code",
   "execution_count": 48,
   "id": "5c5cbe4f",
   "metadata": {},
   "outputs": [
    {
     "data": {
      "text/plain": [
       "(1000, 3)"
      ]
     },
     "execution_count": 48,
     "metadata": {},
     "output_type": "execute_result"
    }
   ],
   "source": [
    "content_new_df.shape"
   ]
  },
  {
   "cell_type": "code",
   "execution_count": 44,
   "id": "8b81f30c",
   "metadata": {},
   "outputs": [
    {
     "data": {
      "text/html": [
       "<div><div id=0aa99095-8616-49f5-805d-74a097d988b0 style=\"display:none; background-color:#9D6CFF; color:white; width:200px; height:30px; padding-left:5px; border-radius:4px; flex-direction:row; justify-content:space-around; align-items:center;\" onmouseover=\"this.style.backgroundColor='#BA9BF8'\" onmouseout=\"this.style.backgroundColor='#9D6CFF'\" onclick=\"window.commands?.execute('create-mitosheet-from-dataframe-output');\">See Full Dataframe in Mito</div> <script> if (window.commands?.hasCommand('create-mitosheet-from-dataframe-output')) document.getElementById('0aa99095-8616-49f5-805d-74a097d988b0').style.display = 'flex' </script> <table border=\"1\" class=\"dataframe\">\n",
       "  <thead>\n",
       "    <tr style=\"text-align: right;\">\n",
       "      <th></th>\n",
       "      <th>Content ID</th>\n",
       "      <th>TypeReaction</th>\n",
       "      <th>Datetime</th>\n",
       "      <th>Score</th>\n",
       "      <th>Sentiment</th>\n",
       "    </tr>\n",
       "  </thead>\n",
       "  <tbody>\n",
       "    <tr>\n",
       "      <th>0</th>\n",
       "      <td>97522e57-d9ab-4bd6-97bf-c24d952602d2</td>\n",
       "      <td>disgust</td>\n",
       "      <td>2020-11-07 09:43:50</td>\n",
       "      <td>0</td>\n",
       "      <td>negative</td>\n",
       "    </tr>\n",
       "    <tr>\n",
       "      <th>1</th>\n",
       "      <td>97522e57-d9ab-4bd6-97bf-c24d952602d2</td>\n",
       "      <td>dislike</td>\n",
       "      <td>2021-06-17 12:22:51</td>\n",
       "      <td>10</td>\n",
       "      <td>negative</td>\n",
       "    </tr>\n",
       "    <tr>\n",
       "      <th>2</th>\n",
       "      <td>97522e57-d9ab-4bd6-97bf-c24d952602d2</td>\n",
       "      <td>scared</td>\n",
       "      <td>2021-04-18 05:13:58</td>\n",
       "      <td>15</td>\n",
       "      <td>negative</td>\n",
       "    </tr>\n",
       "    <tr>\n",
       "      <th>3</th>\n",
       "      <td>97522e57-d9ab-4bd6-97bf-c24d952602d2</td>\n",
       "      <td>disgust</td>\n",
       "      <td>2021-01-06 19:13:01</td>\n",
       "      <td>0</td>\n",
       "      <td>negative</td>\n",
       "    </tr>\n",
       "    <tr>\n",
       "      <th>4</th>\n",
       "      <td>97522e57-d9ab-4bd6-97bf-c24d952602d2</td>\n",
       "      <td>interested</td>\n",
       "      <td>2020-08-23 12:25:58</td>\n",
       "      <td>30</td>\n",
       "      <td>positive</td>\n",
       "    </tr>\n",
       "  </tbody>\n",
       "</table></div>"
      ],
      "text/plain": [
       "                             Content ID TypeReaction             Datetime  \\\n",
       "0  97522e57-d9ab-4bd6-97bf-c24d952602d2      disgust  2020-11-07 09:43:50   \n",
       "1  97522e57-d9ab-4bd6-97bf-c24d952602d2      dislike  2021-06-17 12:22:51   \n",
       "2  97522e57-d9ab-4bd6-97bf-c24d952602d2       scared  2021-04-18 05:13:58   \n",
       "3  97522e57-d9ab-4bd6-97bf-c24d952602d2      disgust  2021-01-06 19:13:01   \n",
       "4  97522e57-d9ab-4bd6-97bf-c24d952602d2   interested  2020-08-23 12:25:58   \n",
       "\n",
       "   Score Sentiment  \n",
       "0      0  negative  \n",
       "1     10  negative  \n",
       "2     15  negative  \n",
       "3      0  negative  \n",
       "4     30  positive  "
      ]
     },
     "execution_count": 44,
     "metadata": {},
     "output_type": "execute_result"
    }
   ],
   "source": [
    "reactions_new_df = pd.read_csv('reactions_df_cleaned.csv')\n",
    "reactions_new_df.drop(['Unnamed: 0','User ID'], axis=1, inplace=True)\n",
    "reactions_new_df.rename(columns = {'Type':'TypeReaction'}, inplace = True)\n",
    "reactions_new_df.head()"
   ]
  },
  {
   "cell_type": "code",
   "execution_count": 49,
   "id": "cb5e556b",
   "metadata": {},
   "outputs": [
    {
     "data": {
      "text/plain": [
       "(22534, 5)"
      ]
     },
     "execution_count": 49,
     "metadata": {},
     "output_type": "execute_result"
    }
   ],
   "source": [
    "reactions_new_df.shape"
   ]
  },
  {
   "cell_type": "code",
   "execution_count": 46,
   "id": "f6b836be",
   "metadata": {},
   "outputs": [
    {
     "data": {
      "text/html": [
       "<div><div id=08a0d4e7-831a-4ac5-82e1-85bc096e90c8 style=\"display:none; background-color:#9D6CFF; color:white; width:200px; height:30px; padding-left:5px; border-radius:4px; flex-direction:row; justify-content:space-around; align-items:center;\" onmouseover=\"this.style.backgroundColor='#BA9BF8'\" onmouseout=\"this.style.backgroundColor='#9D6CFF'\" onclick=\"window.commands?.execute('create-mitosheet-from-dataframe-output');\">See Full Dataframe in Mito</div> <script> if (window.commands?.hasCommand('create-mitosheet-from-dataframe-output')) document.getElementById('08a0d4e7-831a-4ac5-82e1-85bc096e90c8').style.display = 'flex' </script> <table border=\"1\" class=\"dataframe\">\n",
       "  <thead>\n",
       "    <tr style=\"text-align: right;\">\n",
       "      <th></th>\n",
       "      <th>Content ID</th>\n",
       "      <th>TypeContent</th>\n",
       "      <th>Category</th>\n",
       "      <th>TypeReaction</th>\n",
       "      <th>Datetime</th>\n",
       "      <th>Score</th>\n",
       "      <th>Sentiment</th>\n",
       "    </tr>\n",
       "  </thead>\n",
       "  <tbody>\n",
       "    <tr>\n",
       "      <th>0</th>\n",
       "      <td>97522e57-d9ab-4bd6-97bf-c24d952602d2</td>\n",
       "      <td>photo</td>\n",
       "      <td>studying</td>\n",
       "      <td>disgust</td>\n",
       "      <td>2020-11-07 09:43:50</td>\n",
       "      <td>0.0</td>\n",
       "      <td>negative</td>\n",
       "    </tr>\n",
       "    <tr>\n",
       "      <th>1</th>\n",
       "      <td>97522e57-d9ab-4bd6-97bf-c24d952602d2</td>\n",
       "      <td>photo</td>\n",
       "      <td>studying</td>\n",
       "      <td>dislike</td>\n",
       "      <td>2021-06-17 12:22:51</td>\n",
       "      <td>10.0</td>\n",
       "      <td>negative</td>\n",
       "    </tr>\n",
       "    <tr>\n",
       "      <th>2</th>\n",
       "      <td>97522e57-d9ab-4bd6-97bf-c24d952602d2</td>\n",
       "      <td>photo</td>\n",
       "      <td>studying</td>\n",
       "      <td>scared</td>\n",
       "      <td>2021-04-18 05:13:58</td>\n",
       "      <td>15.0</td>\n",
       "      <td>negative</td>\n",
       "    </tr>\n",
       "    <tr>\n",
       "      <th>3</th>\n",
       "      <td>97522e57-d9ab-4bd6-97bf-c24d952602d2</td>\n",
       "      <td>photo</td>\n",
       "      <td>studying</td>\n",
       "      <td>disgust</td>\n",
       "      <td>2021-01-06 19:13:01</td>\n",
       "      <td>0.0</td>\n",
       "      <td>negative</td>\n",
       "    </tr>\n",
       "    <tr>\n",
       "      <th>4</th>\n",
       "      <td>97522e57-d9ab-4bd6-97bf-c24d952602d2</td>\n",
       "      <td>photo</td>\n",
       "      <td>studying</td>\n",
       "      <td>interested</td>\n",
       "      <td>2020-08-23 12:25:58</td>\n",
       "      <td>30.0</td>\n",
       "      <td>positive</td>\n",
       "    </tr>\n",
       "  </tbody>\n",
       "</table></div>"
      ],
      "text/plain": [
       "                             Content ID TypeContent  Category TypeReaction  \\\n",
       "0  97522e57-d9ab-4bd6-97bf-c24d952602d2       photo  studying      disgust   \n",
       "1  97522e57-d9ab-4bd6-97bf-c24d952602d2       photo  studying      dislike   \n",
       "2  97522e57-d9ab-4bd6-97bf-c24d952602d2       photo  studying       scared   \n",
       "3  97522e57-d9ab-4bd6-97bf-c24d952602d2       photo  studying      disgust   \n",
       "4  97522e57-d9ab-4bd6-97bf-c24d952602d2       photo  studying   interested   \n",
       "\n",
       "              Datetime  Score Sentiment  \n",
       "0  2020-11-07 09:43:50    0.0  negative  \n",
       "1  2021-06-17 12:22:51   10.0  negative  \n",
       "2  2021-04-18 05:13:58   15.0  negative  \n",
       "3  2021-01-06 19:13:01    0.0  negative  \n",
       "4  2020-08-23 12:25:58   30.0  positive  "
      ]
     },
     "execution_count": 46,
     "metadata": {},
     "output_type": "execute_result"
    }
   ],
   "source": [
    "merged_df = pd.merge(content_new_df, reactions_new_df, how=\"outer\", on=[\"Content ID\"])\n",
    "merged_df.head()"
   ]
  },
  {
   "cell_type": "code",
   "execution_count": 50,
   "id": "bfa24f63",
   "metadata": {},
   "outputs": [
    {
     "data": {
      "text/plain": [
       "(22572, 7)"
      ]
     },
     "execution_count": 50,
     "metadata": {},
     "output_type": "execute_result"
    }
   ],
   "source": [
    "merged_df.shape"
   ]
  },
  {
   "cell_type": "code",
   "execution_count": 51,
   "id": "977f3f52",
   "metadata": {},
   "outputs": [],
   "source": [
    "### Save the final cleaned and merged dataset\n",
    "merged_df.to_csv('final_df.csv')"
   ]
  },
  {
   "cell_type": "code",
   "execution_count": null,
   "id": "ab237e0e",
   "metadata": {},
   "outputs": [],
   "source": []
  }
 ],
 "metadata": {
  "kernelspec": {
   "display_name": "Python 3 (ipykernel)",
   "language": "python",
   "name": "python3"
  },
  "language_info": {
   "codemirror_mode": {
    "name": "ipython",
    "version": 3
   },
   "file_extension": ".py",
   "mimetype": "text/x-python",
   "name": "python",
   "nbconvert_exporter": "python",
   "pygments_lexer": "ipython3",
   "version": "3.9.12"
  }
 },
 "nbformat": 4,
 "nbformat_minor": 5
}
